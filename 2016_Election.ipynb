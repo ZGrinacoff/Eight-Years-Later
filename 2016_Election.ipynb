{
 "cells": [
  {
   "cell_type": "code",
   "execution_count": 1,
   "metadata": {},
   "outputs": [],
   "source": [
    "import pandas as pd\n",
    "\n",
    "low_memory=False\n",
    "\n",
    "# file and import as df\n",
    "election_file = \"Resources/1976-2016-president.csv\"\n",
    "election_df = pd.read_csv(election_file)\n",
    "election_data_2016 = election_df.drop(columns = ['notes','version','writein','office','state_ic','state_cen','state_fips','state_po'])\n",
    "\n",
    "# getting the data I want to work with\n",
    "election_data_2016 = election_df[(election_df['year']==2016)&((election_df['candidate']=='Trump, Donald J.')|(election_df['candidate']=='Clinton, Hillary'))]\n",
    "election_data_2016 = election_data_2016.drop(columns = ['notes','version','writein','office','state_ic','state_cen','state_fips','state_po'])\n",
    "\n",
    "# total votes in 2016\n",
    "totalvotes_2016 = list(election_data_2016['totalvotes'].unique())\n",
    "\n",
    "# list of every state\n",
    "states = list(election_data_2016['state'].unique())\n",
    "\n",
    "# all the republican and democret votes for each state in order for 2016 and 2016\n",
    "republican_votes_2016 = list(election_data_2016[(election_data_2016['party']=='republican')&(election_data_2016['candidatevotes']>=5000)]['candidatevotes'])\n",
    "democrat_votes_2016 = list(election_data_2016[(election_data_2016['party']=='democrat')&(election_data_2016['candidatevotes']>=5000)]['candidatevotes'])\n",
    "\n",
    "# dictionary for my data frame\n",
    "election_dict_2016 = {\n",
    "    \"State\":states,\n",
    "    \"Republican Votes 2016\":republican_votes_2016,\n",
    "    \"Democrat Votes 2016\":democrat_votes_2016,\n",
    "    \"Total Votes 2016\":totalvotes_2016,\n",
    "}\n",
    "\n",
    "clean_election_data_2016 = pd.DataFrame.from_dict(election_dict_2016)\n",
    "\n",
    "# getting the percentage of republican votes and democrat votes for each year\n",
    "\n",
    "# initialize all the lists for percents\n",
    "republican_percent_2016 = []\n",
    "democrat_percent_2016 = []\n",
    "\n",
    "# for loop for all the percentages\n",
    "for i in range(51):\n",
    "    republican_percent_2016.append(round((republican_votes_2016[i]/totalvotes_2016[i])*100,2))\n",
    "    democrat_percent_2016.append(round((democrat_votes_2016[i]/totalvotes_2016[i])*100,2))\n",
    "\n",
    "\n",
    "# add all my sick new data to my clean data frame\n",
    "clean_election_data_2016['Republican Vote Percentage 2016'] = republican_percent_2016\n",
    "clean_election_data_2016['Democrat Vote Percentage 2016'] = democrat_percent_2016\n",
    "\n",
    "state_politics_2016 = []\n",
    "\n",
    "for i in range(51):\n",
    "    if (republican_percent_2016[i] > democrat_percent_2016[i]):\n",
    "        if (republican_percent_2016[i] >= 60):\n",
    "            state_politics_2016.append(\"Hard Right\")\n",
    "        else:\n",
    "            state_politics_2016.append(\"Middle Right\")\n",
    "            \n",
    "    if (republican_percent_2016[i] < democrat_percent_2016[i]):\n",
    "        if (democrat_percent_2016[i] >= 60):\n",
    "            state_politics_2016.append(\"Hard Left\")\n",
    "        else:\n",
    "            state_politics_2016.append(\"Middle Left\")\n",
    "\n",
    "clean_election_data_2016.insert(loc=1, column='Voting Affiliation 2016', value=state_politics_2016)"
   ]
  },
  {
   "cell_type": "code",
   "execution_count": 2,
   "metadata": {},
   "outputs": [],
   "source": [
    "clean_election_data_2016.to_csv(\"Resources/ElectionData2017\")"
   ]
  },
  {
   "cell_type": "code",
   "execution_count": null,
   "metadata": {},
   "outputs": [],
   "source": []
  }
 ],
 "metadata": {
  "kernelspec": {
   "display_name": "Python 3",
   "language": "python",
   "name": "python3"
  },
  "language_info": {
   "codemirror_mode": {
    "name": "ipython",
    "version": 3
   },
   "file_extension": ".py",
   "mimetype": "text/x-python",
   "name": "python",
   "nbconvert_exporter": "python",
   "pygments_lexer": "ipython3",
   "version": "3.7.3"
  }
 },
 "nbformat": 4,
 "nbformat_minor": 2
}
