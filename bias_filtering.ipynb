{
 "cells": [
  {
   "cell_type": "code",
   "execution_count": 33,
   "metadata": {},
   "outputs": [],
   "source": [
    "import pandas as pd\n",
    "\n",
    "hate_crime_file = \"Resources/hate_crime.csv\"\n",
    "hate_crime_df = pd.read_csv(hate_crime_file,low_memory=False)"
   ]
  },
  {
   "cell_type": "code",
   "execution_count": 34,
   "metadata": {},
   "outputs": [],
   "source": [
    "unfiltered_bias = list(hate_crime_df[\"BIAS_DESC\"])\n",
    "unique_bias = set()\n",
    "\n",
    "for bias in unfiltered_bias:\n",
    "    list_of_bias = bias.split(';')\n",
    "    \n",
    "    for split in list_of_bias:\n",
    "        unique_bias.add(split)"
   ]
  },
  {
   "cell_type": "code",
   "execution_count": 31,
   "metadata": {},
   "outputs": [],
   "source": [
    "religion = ['Anti-American Indian or Alaska Native',\n",
    " 'Anti-Arab',\n",
    " 'Anti-Atheism/Agnosticism',\n",
    " 'Anti-Buddhist',\n",
    " 'Anti-Catholic',\n",
    " 'Anti-Eastern Orthodox (Russian, Greek, Other)',\n",
    " 'Anti-Hindu',\n",
    " 'Anti-Islamic (Muslim)',\n",
    " \"Anti-Jehovah's Witness\",\n",
    " 'Anti-Jewish',\n",
    " 'Anti-Mormon',\n",
    " 'Anti-Multiple Religions, Group',\n",
    " 'Anti-Other Christian',\n",
    " 'Anti-Other Religion',\n",
    " 'Anti-Protestant',\n",
    " 'Anti-Sikh']\n",
    "\n",
    "sexuality = [ 'Anti-Bisexual',\n",
    " 'Anti-Gay (Male)',\n",
    " 'Anti-Heterosexual',\n",
    " 'Anti-Lesbian (Female)',\n",
    " 'Anti-Lesbian, Gay, Bisexual, or Transgender (Mixed Group)']\n",
    "\n",
    "gender = [ 'Anti-Female',\n",
    " 'Anti-Gender Non-Conforming',\n",
    " 'Anti-Lesbian, Gay, Bisexual, or Transgender (Mixed Group)',\n",
    " 'Anti-Male',\n",
    " 'Anti-Transgender']\n",
    "\n",
    "race = ['Anti-American Indian or Alaska Native',\n",
    " 'Anti-Arab',\n",
    " 'Anti-Asian',\n",
    " 'Anti-Black or African American',\n",
    " 'Anti-Eastern Orthodox (Russian, Greek, Other)',\n",
    " 'Anti-Hispanic or Latino',\n",
    " 'Anti-Multiple Races, Group',\n",
    " 'Anti-Native Hawaiian or Other Pacific Islander',\n",
    " 'Anti-Other Race/Ethnicity/Ancestry',\n",
    " 'Anti-White']"
   ]
  },
  {
   "cell_type": "code",
   "execution_count": 56,
   "metadata": {},
   "outputs": [],
   "source": [
    "columns = ['INCIDENT_ID', 'DATA_YEAR', 'INCIDENT_DATE', 'PUB_AGENCY_NAME', 'AGENCY_TYPE_NAME',\n",
    "           'STATE_ABBR', 'STATE_NAME', 'POPULATION_GROUP_DESC', 'TOTAL_OFFENDER_COUNT',\n",
    "           'TOTAL_INDIVIDUAL_VICTIMS', 'LOCATION_NAME', 'BIAS_DESC', 'VICTIM_TYPES'\n",
    "          ]\n",
    "\n",
    "reduced_hate_crime_df = hate_crime_df.loc[:,  columns]\n",
    "\n",
    "reduced_hate_crime_2009_df = reduced_hate_crime_df.loc[(reduced_hate_crime_df['DATA_YEAR'] == 2009)]\n",
    "reduced_hate_crime_2017_df = reduced_hate_crime_df.loc[(reduced_hate_crime_df['DATA_YEAR'] == 2017)]\n",
    "\n",
    "hate_crimes_2009 = list(reduced_hate_crime_2009_df['BIAS_DESC'])\n",
    "hate_crimes_2017 = list(reduced_hate_crime_2017_df['BIAS_DESC'])\n",
    "\n",
    "# filtering hate crime data for 2009\n",
    "religion_count = 0\n",
    "sexuality_count = 0\n",
    "race_count = 0\n",
    "gender_count = 0\n",
    "\n",
    "for crime in hate_crimes_2009:\n",
    "    for religion in religion:\n",
    "        if religion in crime:\n",
    "            religion_count = religion_count + 1\n",
    "            \n",
    "for crime in hate_crimes_2009:\n",
    "    for sexuality in sexuality:\n",
    "        if sexuality in crime:\n",
    "            sexuality_count = sexuality_count + 1\n",
    "            \n",
    "for crime in hate_crimes_2009:\n",
    "    for race in race:\n",
    "        if race in crime:\n",
    "            race_count = race_count + 1\n",
    "            \n",
    "for crime in hate_crimes_2009:\n",
    "    for gender in gender:\n",
    "        if gender in crime:\n",
    "            gender_count = gender_count + 1\n",
    "            \n",
    "# filtering hate crime data for 2016\n",
    "religion_count1 = 0\n",
    "sexuality_count1 = 0\n",
    "race_count1 = 0\n",
    "gender_count1 = 0\n",
    "\n",
    "for crime in hate_crimes_2017:\n",
    "    for religion in religion:\n",
    "        if religion in crime:\n",
    "            religion_count1 = religion_count1 + 1\n",
    "            \n",
    "for crime in hate_crimes_2017:\n",
    "    for sexuality in sexuality:\n",
    "        if sexuality in crime:\n",
    "            sexuality_count1 = sexuality_count1 + 1\n",
    "            \n",
    "for crime in hate_crimes_2017:\n",
    "    for race in race:\n",
    "        if race in crime:\n",
    "            race_count1 = race_count1 + 1\n",
    "            \n",
    "for crime in hate_crimes_2017:\n",
    "    for gender in gender:\n",
    "        if gender in crime:\n",
    "            gender_count1 = gender_count1 + 1\n",
    "           "
   ]
  },
  {
   "cell_type": "code",
   "execution_count": 61,
   "metadata": {},
   "outputs": [
    {
     "name": "stdout",
     "output_type": "stream",
     "text": [
      "The number of race bias hate crimes in 2009 is 5817 \n",
      "The number of gender bias hate crimes in 2009 is 3857 \n",
      "The number of religious bias hate crimes in 2009 is 1964 \n",
      "The number of sexuality bias hate crimes in 2009 is 1290\n"
     ]
    }
   ],
   "source": [
    "print(f\"The number of race bias hate crimes in 2009 is {race_count} \\nThe number of gender bias hate crimes in 2009 is {gender_count} \\nThe number of religious bias hate crimes in 2009 is {religion_count} \\nThe number of sexuality bias hate crimes in 2009 is {sexuality_count}\")"
   ]
  },
  {
   "cell_type": "code",
   "execution_count": 60,
   "metadata": {},
   "outputs": [
    {
     "name": "stdout",
     "output_type": "stream",
     "text": [
      "The number of race bias hate crimes in 2017 is 6201 \n",
      "The number of gender bias hate crimes in 2017 is 4069 \n",
      "The number of religious bias hate crimes in 2017 is 2351 \n",
      "The number of sexuality bias hate crimes in 2017 is 1414\n"
     ]
    }
   ],
   "source": [
    "print(f\"The number of race bias hate crimes in 2017 is {race_count1} \\nThe number of gender bias hate crimes in 2017 is {gender_count1} \\nThe number of religious bias hate crimes in 2017 is {religion_count1} \\nThe number of sexuality bias hate crimes in 2017 is {sexuality_count1}\")"
   ]
  },
  {
   "cell_type": "code",
   "execution_count": null,
   "metadata": {},
   "outputs": [],
   "source": [
    "# intitaial observation: every type has gone up by at least 200"
   ]
  },
  {
   "cell_type": "code",
   "execution_count": null,
   "metadata": {},
   "outputs": [],
   "source": []
  }
 ],
 "metadata": {
  "kernelspec": {
   "display_name": "Python 3",
   "language": "python",
   "name": "python3"
  },
  "language_info": {
   "codemirror_mode": {
    "name": "ipython",
    "version": 3
   },
   "file_extension": ".py",
   "mimetype": "text/x-python",
   "name": "python",
   "nbconvert_exporter": "python",
   "pygments_lexer": "ipython3",
   "version": "3.7.3"
  }
 },
 "nbformat": 4,
 "nbformat_minor": 2
}
