{
 "cells": [
  {
   "cell_type": "code",
   "execution_count": 1,
   "metadata": {},
   "outputs": [],
   "source": [
    "#Figure out which states changes from dem to rep or visa versa then see if rates went up or down in those states.\n",
    "\n",
    "import pandas as pd\n",
    "\n",
    "election_2009 = pd.read_csv(\"Resources/ElectionData2008\")\n",
    "election_2017 = pd.read_csv(\"Resources/ElectionData2017\")\n",
    "hate_crime_2009 = pd.read_csv(\"Resources/hate_crime_socioeconomic_2009.csv\")\n",
    "hate_crime_2017 = pd.read_csv(\"Resources/hate_crime_socioeconomic_2017.csv\")"
   ]
  },
  {
   "cell_type": "code",
   "execution_count": 2,
   "metadata": {},
   "outputs": [
    {
     "data": {
      "text/plain": [
       "['Florida',\n",
       " 'Indiana',\n",
       " 'Iowa',\n",
       " 'Michigan',\n",
       " 'North Carolina',\n",
       " 'Ohio',\n",
       " 'Pennsylvania',\n",
       " 'Wisconsin']"
      ]
     },
     "execution_count": 2,
     "metadata": {},
     "output_type": "execute_result"
    }
   ],
   "source": [
    "voting_2009 = list(election_2009['Voting Affiliation 2008'])\n",
    "voting_2017 = list(election_2017['Voting Affiliation 2016'])\n",
    "states = list(election_2009[\"State\"])\n",
    "\n",
    "different_states = []\n",
    "change_in_affiliation = []\n",
    "for i in range(len(voting_2009)):\n",
    "    if 'Left' in voting_2009[i]:\n",
    "        if 'Left' not in voting_2017[i]:\n",
    "            different_states.append(states[i])\n",
    "            change_in_affiliation.append(\"Democrat to Republican\")\n",
    "    if 'Right' in voting_2009[i]:\n",
    "        if 'Right' not in voting_2017[i]:\n",
    "            different_states.append(states[i])\n",
    "            change_in_affiliation.append(\"Republican to Democrat\")\n",
    "different_states"
   ]
  },
  {
   "cell_type": "code",
   "execution_count": 3,
   "metadata": {},
   "outputs": [],
   "source": [
    "state_change_2009 = election_2009[election_2009['State'].apply(lambda row: row in different_states)]"
   ]
  },
  {
   "cell_type": "code",
   "execution_count": 4,
   "metadata": {},
   "outputs": [],
   "source": [
    "state_change_2017 = election_2017[election_2017['State'].apply(lambda row: row in different_states)]"
   ]
  },
  {
   "cell_type": "code",
   "execution_count": 5,
   "metadata": {},
   "outputs": [
    {
     "data": {
      "text/html": [
       "<div>\n",
       "<style scoped>\n",
       "    .dataframe tbody tr th:only-of-type {\n",
       "        vertical-align: middle;\n",
       "    }\n",
       "\n",
       "    .dataframe tbody tr th {\n",
       "        vertical-align: top;\n",
       "    }\n",
       "\n",
       "    .dataframe thead th {\n",
       "        text-align: right;\n",
       "    }\n",
       "</style>\n",
       "<table border=\"1\" class=\"dataframe\">\n",
       "  <thead>\n",
       "    <tr style=\"text-align: right;\">\n",
       "      <th></th>\n",
       "      <th>State</th>\n",
       "      <th>Hate Crime Rate 2017</th>\n",
       "      <th>Voting Affiliation 2017</th>\n",
       "    </tr>\n",
       "  </thead>\n",
       "  <tbody>\n",
       "    <tr>\n",
       "      <th>38</th>\n",
       "      <td>Florida</td>\n",
       "      <td>0.727384</td>\n",
       "      <td>Middle Right</td>\n",
       "    </tr>\n",
       "    <tr>\n",
       "      <th>32</th>\n",
       "      <td>Indiana</td>\n",
       "      <td>1.487197</td>\n",
       "      <td>Middle Right</td>\n",
       "    </tr>\n",
       "    <tr>\n",
       "      <th>46</th>\n",
       "      <td>Iowa</td>\n",
       "      <td>0.321896</td>\n",
       "      <td>Middle Right</td>\n",
       "    </tr>\n",
       "    <tr>\n",
       "      <th>6</th>\n",
       "      <td>Michigan</td>\n",
       "      <td>4.611690</td>\n",
       "      <td>Middle Right</td>\n",
       "    </tr>\n",
       "    <tr>\n",
       "      <th>29</th>\n",
       "      <td>North Carolina</td>\n",
       "      <td>1.669881</td>\n",
       "      <td>Middle Right</td>\n",
       "    </tr>\n",
       "    <tr>\n",
       "      <th>9</th>\n",
       "      <td>Ohio</td>\n",
       "      <td>3.331337</td>\n",
       "      <td>Middle Right</td>\n",
       "    </tr>\n",
       "    <tr>\n",
       "      <th>43</th>\n",
       "      <td>Pennsylvania</td>\n",
       "      <td>0.586672</td>\n",
       "      <td>Middle Right</td>\n",
       "    </tr>\n",
       "    <tr>\n",
       "      <th>37</th>\n",
       "      <td>Wisconsin</td>\n",
       "      <td>0.816710</td>\n",
       "      <td>Middle Right</td>\n",
       "    </tr>\n",
       "  </tbody>\n",
       "</table>\n",
       "</div>"
      ],
      "text/plain": [
       "             State  Hate Crime Rate 2017 Voting Affiliation 2017\n",
       "38         Florida              0.727384            Middle Right\n",
       "32         Indiana              1.487197            Middle Right\n",
       "46            Iowa              0.321896            Middle Right\n",
       "6         Michigan              4.611690            Middle Right\n",
       "29  North Carolina              1.669881            Middle Right\n",
       "9             Ohio              3.331337            Middle Right\n",
       "43    Pennsylvania              0.586672            Middle Right\n",
       "37       Wisconsin              0.816710            Middle Right"
      ]
     },
     "execution_count": 5,
     "metadata": {},
     "output_type": "execute_result"
    }
   ],
   "source": [
    "diff_state_crime_2017 = hate_crime_2017[hate_crime_2017['State'].apply(lambda row: row in different_states)][['State','Hate Crime Rate']].rename(columns = {'Hate Crime Rate': 'Hate Crime Rate 2017'}).sort_values('State')\n",
    "diff_state_crime_2017['Voting Affiliation 2017'] = list(state_change_2017['Voting Affiliation 2016'])\n",
    "diff_state_crime_2017"
   ]
  },
  {
   "cell_type": "code",
   "execution_count": 6,
   "metadata": {},
   "outputs": [
    {
     "data": {
      "text/html": [
       "<div>\n",
       "<style scoped>\n",
       "    .dataframe tbody tr th:only-of-type {\n",
       "        vertical-align: middle;\n",
       "    }\n",
       "\n",
       "    .dataframe tbody tr th {\n",
       "        vertical-align: top;\n",
       "    }\n",
       "\n",
       "    .dataframe thead th {\n",
       "        text-align: right;\n",
       "    }\n",
       "</style>\n",
       "<table border=\"1\" class=\"dataframe\">\n",
       "  <thead>\n",
       "    <tr style=\"text-align: right;\">\n",
       "      <th></th>\n",
       "      <th>State</th>\n",
       "      <th>Hate Crime Rate 2009</th>\n",
       "      <th>Voting Affiliation 2009</th>\n",
       "    </tr>\n",
       "  </thead>\n",
       "  <tbody>\n",
       "    <tr>\n",
       "      <th>42</th>\n",
       "      <td>Florida</td>\n",
       "      <td>0.688371</td>\n",
       "      <td>Middle Left</td>\n",
       "    </tr>\n",
       "    <tr>\n",
       "      <th>40</th>\n",
       "      <td>Indiana</td>\n",
       "      <td>0.848042</td>\n",
       "      <td>Middle Left</td>\n",
       "    </tr>\n",
       "    <tr>\n",
       "      <th>44</th>\n",
       "      <td>Iowa</td>\n",
       "      <td>0.557808</td>\n",
       "      <td>Middle Left</td>\n",
       "    </tr>\n",
       "    <tr>\n",
       "      <th>16</th>\n",
       "      <td>Michigan</td>\n",
       "      <td>3.182698</td>\n",
       "      <td>Middle Left</td>\n",
       "    </tr>\n",
       "    <tr>\n",
       "      <th>37</th>\n",
       "      <td>North Carolina</td>\n",
       "      <td>1.079184</td>\n",
       "      <td>Middle Left</td>\n",
       "    </tr>\n",
       "    <tr>\n",
       "      <th>22</th>\n",
       "      <td>Ohio</td>\n",
       "      <td>2.627116</td>\n",
       "      <td>Middle Left</td>\n",
       "    </tr>\n",
       "    <tr>\n",
       "      <th>46</th>\n",
       "      <td>Pennsylvania</td>\n",
       "      <td>0.283474</td>\n",
       "      <td>Middle Left</td>\n",
       "    </tr>\n",
       "    <tr>\n",
       "      <th>39</th>\n",
       "      <td>Wisconsin</td>\n",
       "      <td>0.949497</td>\n",
       "      <td>Middle Left</td>\n",
       "    </tr>\n",
       "  </tbody>\n",
       "</table>\n",
       "</div>"
      ],
      "text/plain": [
       "             State  Hate Crime Rate 2009 Voting Affiliation 2009\n",
       "42         Florida              0.688371             Middle Left\n",
       "40         Indiana              0.848042             Middle Left\n",
       "44            Iowa              0.557808             Middle Left\n",
       "16        Michigan              3.182698             Middle Left\n",
       "37  North Carolina              1.079184             Middle Left\n",
       "22            Ohio              2.627116             Middle Left\n",
       "46    Pennsylvania              0.283474             Middle Left\n",
       "39       Wisconsin              0.949497             Middle Left"
      ]
     },
     "execution_count": 6,
     "metadata": {},
     "output_type": "execute_result"
    }
   ],
   "source": [
    "diff_state_crime_2009 = hate_crime_2009[hate_crime_2009['State'].apply(lambda row: row in different_states)][['State','Hate Crime Rate']].rename(columns = {'Hate Crime Rate': 'Hate Crime Rate 2009'}).sort_values('State')\n",
    "diff_state_crime_2009['Voting Affiliation 2009'] = list(state_change_2009['Voting Affiliation 2008'])\n",
    "diff_state_crime_2009"
   ]
  },
  {
   "cell_type": "code",
   "execution_count": 7,
   "metadata": {},
   "outputs": [],
   "source": [
    "different_states_order = list(diff_state_crime_2009['State'])\n",
    "hcr_09 = list(diff_state_crime_2009['Hate Crime Rate 2009'])\n",
    "hcr_17 = list(diff_state_crime_2017['Hate Crime Rate 2017'])\n",
    "\n",
    "change_in_crime = []\n",
    "for i in range(len(hcr_09)):\n",
    "    change_in_crime.append(round(hcr_17[i]-hcr_09[i],2))\n",
    "        \n",
    "dict1 = {\n",
    "    'State':different_states_order,\n",
    "    'Change in Hate Crime Rate per 100,000':change_in_crime,\n",
    "    'Change in Political Affiliation':change_in_affiliation\n",
    "}"
   ]
  },
  {
   "cell_type": "code",
   "execution_count": 8,
   "metadata": {},
   "outputs": [],
   "source": [
    "politic_change_df = pd.DataFrame(dict1)"
   ]
  },
  {
   "cell_type": "code",
   "execution_count": 10,
   "metadata": {},
   "outputs": [],
   "source": [
    "# althought the majority for the rates have increased, the amount they have increased is within a margin of error\n",
    "\n",
    "#approximately how many more/less hate crimes does this correspond to\n",
    "crime_increase = [9,43,-8,143,61,82,38,-8]\n",
    "politic_change_df['Increase/Decrease\\nin Total Hate Crimes']=crime_increase"
   ]
  },
  {
   "cell_type": "code",
   "execution_count": 13,
   "metadata": {},
   "outputs": [
    {
     "data": {
      "text/html": [
       "<div>\n",
       "<style scoped>\n",
       "    .dataframe tbody tr th:only-of-type {\n",
       "        vertical-align: middle;\n",
       "    }\n",
       "\n",
       "    .dataframe tbody tr th {\n",
       "        vertical-align: top;\n",
       "    }\n",
       "\n",
       "    .dataframe thead th {\n",
       "        text-align: right;\n",
       "    }\n",
       "</style>\n",
       "<table border=\"1\" class=\"dataframe\">\n",
       "  <thead>\n",
       "    <tr style=\"text-align: right;\">\n",
       "      <th></th>\n",
       "      <th>State</th>\n",
       "      <th>Change in Hate Crime Rate per 100,000</th>\n",
       "      <th>Increase/Decrease\n",
       "in Total Hate Crimes</th>\n",
       "      <th>Change in Political Affiliation</th>\n",
       "    </tr>\n",
       "  </thead>\n",
       "  <tbody>\n",
       "    <tr>\n",
       "      <th>0</th>\n",
       "      <td>Florida</td>\n",
       "      <td>0.04</td>\n",
       "      <td>9</td>\n",
       "      <td>Democrat to Republican</td>\n",
       "    </tr>\n",
       "    <tr>\n",
       "      <th>1</th>\n",
       "      <td>Indiana</td>\n",
       "      <td>0.64</td>\n",
       "      <td>43</td>\n",
       "      <td>Democrat to Republican</td>\n",
       "    </tr>\n",
       "    <tr>\n",
       "      <th>2</th>\n",
       "      <td>Iowa</td>\n",
       "      <td>-0.24</td>\n",
       "      <td>-8</td>\n",
       "      <td>Democrat to Republican</td>\n",
       "    </tr>\n",
       "    <tr>\n",
       "      <th>3</th>\n",
       "      <td>Michigan</td>\n",
       "      <td>1.43</td>\n",
       "      <td>143</td>\n",
       "      <td>Democrat to Republican</td>\n",
       "    </tr>\n",
       "    <tr>\n",
       "      <th>4</th>\n",
       "      <td>North Carolina</td>\n",
       "      <td>0.59</td>\n",
       "      <td>61</td>\n",
       "      <td>Democrat to Republican</td>\n",
       "    </tr>\n",
       "    <tr>\n",
       "      <th>5</th>\n",
       "      <td>Ohio</td>\n",
       "      <td>0.70</td>\n",
       "      <td>82</td>\n",
       "      <td>Democrat to Republican</td>\n",
       "    </tr>\n",
       "    <tr>\n",
       "      <th>6</th>\n",
       "      <td>Pennsylvania</td>\n",
       "      <td>0.30</td>\n",
       "      <td>38</td>\n",
       "      <td>Democrat to Republican</td>\n",
       "    </tr>\n",
       "    <tr>\n",
       "      <th>7</th>\n",
       "      <td>Wisconsin</td>\n",
       "      <td>-0.13</td>\n",
       "      <td>-8</td>\n",
       "      <td>Democrat to Republican</td>\n",
       "    </tr>\n",
       "  </tbody>\n",
       "</table>\n",
       "</div>"
      ],
      "text/plain": [
       "            State  Change in Hate Crime Rate per 100,000  \\\n",
       "0         Florida                                   0.04   \n",
       "1         Indiana                                   0.64   \n",
       "2            Iowa                                  -0.24   \n",
       "3        Michigan                                   1.43   \n",
       "4  North Carolina                                   0.59   \n",
       "5            Ohio                                   0.70   \n",
       "6    Pennsylvania                                   0.30   \n",
       "7       Wisconsin                                  -0.13   \n",
       "\n",
       "   Increase/Decrease\\nin Total Hate Crimes Change in Political Affiliation  \n",
       "0                                        9          Democrat to Republican  \n",
       "1                                       43          Democrat to Republican  \n",
       "2                                       -8          Democrat to Republican  \n",
       "3                                      143          Democrat to Republican  \n",
       "4                                       61          Democrat to Republican  \n",
       "5                                       82          Democrat to Republican  \n",
       "6                                       38          Democrat to Republican  \n",
       "7                                       -8          Democrat to Republican  "
      ]
     },
     "execution_count": 13,
     "metadata": {},
     "output_type": "execute_result"
    }
   ],
   "source": [
    "politic_change_df1 = politic_change_df[['State','Change in Hate Crime Rate per 100,000','Increase/Decrease\\nin Total Hate Crimes','Change in Political Affiliation']]\n",
    "politic_change_df1"
   ]
  },
  {
   "cell_type": "code",
   "execution_count": 14,
   "metadata": {},
   "outputs": [
    {
     "data": {
      "text/plain": [
       "['Democrat to Republican',\n",
       " 'Democrat to Republican',\n",
       " 'Democrat to Republican',\n",
       " 'Democrat to Republican',\n",
       " 'Democrat to Republican',\n",
       " 'Democrat to Republican',\n",
       " 'Democrat to Republican',\n",
       " 'Democrat to Republican']"
      ]
     },
     "execution_count": 14,
     "metadata": {},
     "output_type": "execute_result"
    }
   ],
   "source": [
    "#significant changes in Indiana, Michigan, Ohio, and Wisconsinc\n",
    "change_in_affiliation"
   ]
  },
  {
   "cell_type": "code",
   "execution_count": null,
   "metadata": {},
   "outputs": [],
   "source": []
  }
 ],
 "metadata": {
  "kernelspec": {
   "display_name": "Python 3",
   "language": "python",
   "name": "python3"
  },
  "language_info": {
   "codemirror_mode": {
    "name": "ipython",
    "version": 3
   },
   "file_extension": ".py",
   "mimetype": "text/x-python",
   "name": "python",
   "nbconvert_exporter": "python",
   "pygments_lexer": "ipython3",
   "version": "3.7.3"
  }
 },
 "nbformat": 4,
 "nbformat_minor": 2
}
